{
 "cells": [
  {
   "cell_type": "markdown",
   "metadata": {},
   "source": [
    "# Homework 1  \n",
    "## Stats 507 Winter 2019\n",
    "### Kunpeng Xie\n",
    "___\n",
    "___"
   ]
  },
  {
   "cell_type": "markdown",
   "metadata": {},
   "source": [
    "### Question 1: Define simple functions###\n",
    "__1.1__: Define a function called *say_hi*, which takes no arguments and prints the string **Hello, world!** when called."
   ]
  },
  {
   "cell_type": "code",
   "execution_count": 3,
   "metadata": {
    "scrolled": true
   },
   "outputs": [
    {
     "name": "stdout",
     "output_type": "stream",
     "text": [
      "Hello, world!\n"
     ]
    }
   ],
   "source": [
    "def say_hi():\n",
    "    print(\"Hello, world!\")\n",
    "say_hi()"
   ]
  },
  {
   "cell_type": "markdown",
   "metadata": {},
   "source": [
    "__1.2__: Define a function called *goat_pad*, which takes a string as its only argument, and prints that string, prepended and appended with the string **goat**. So, *goat_pad(’bird’)* should produce the output\n",
    "<center> goatbirdgoat</center>\n",
    "\n",
    "*goat_pad(’_’)* should produce the output\n",
    "<center>goat_goat</center>\n",
    "\n",
    "and so on. You may assume that the input is a string, so there is no need to perform any error checking in your function"
   ]
  },
  {
   "cell_type": "code",
   "execution_count": 4,
   "metadata": {},
   "outputs": [
    {
     "name": "stdout",
     "output_type": "stream",
     "text": [
      "goatbirdgoat\n",
      "goat_goat\n"
     ]
    }
   ],
   "source": [
    "def goat_pad(middle):\n",
    "    print(\"goat\"+middle+\"goat\")\n",
    "goat_pad('bird')\n",
    "goat_pad('_')"
   ]
  },
  {
   "cell_type": "markdown",
   "metadata": {},
   "source": [
    "__1.3__: Define a function called *print_n*, which takes two arguments, a string __**s**__ and an integer __**n**__ (in that order), and prints the string n times, each on a separate line. You may assume that **s** is a string and that the integer __n__ is non-negati"
   ]
  },
  {
   "cell_type": "code",
   "execution_count": 5,
   "metadata": {},
   "outputs": [
    {
     "name": "stdout",
     "output_type": "stream",
     "text": [
      "kiki do you love me\n",
      "kiki do you love me\n",
      "kiki do you love me\n",
      "kiki do you love me\n",
      "kiki do you love me\n",
      "kiki do you love me\n",
      "kiki do you love me\n",
      "kiki do you love me\n",
      "kiki do you love me\n",
      "kiki do you love me\n"
     ]
    }
   ],
   "source": [
    "def print_n(s,n):\n",
    "    for i in range(n):\n",
    "        print(s)\n",
    "print_n(\"kiki do you love me\", 10)"
   ]
  },
  {
   "cell_type": "markdown",
   "metadata": {},
   "source": [
    "***\n",
    "### Question 2: Euclidean Algorithm ###\n",
    "__2.1__: Choose one of these, and use it to implement a function *gcd*, which takes two integers as its arguments and returns their GCD. You may assume that both inputs are integers, so there is no need to include any error checking in your function."
   ]
  },
  {
   "cell_type": "code",
   "execution_count": 8,
   "metadata": {},
   "outputs": [
    {
     "data": {
      "text/plain": [
       "7"
      ]
     },
     "execution_count": 8,
     "metadata": {},
     "output_type": "execute_result"
    }
   ],
   "source": [
    "def gcd(a,b):\n",
    "    while b != 0 :\n",
    "        t = b\n",
    "        b = a % b\n",
    "        a = t\n",
    "    return a\n",
    "gcd(21,14)"
   ]
  },
  {
   "cell_type": "markdown",
   "metadata": {},
   "source": [
    "__2.2__: Use your function to evaluate the GCDs of the following pairs of numbers:\n",
    "* 2018, 2019\n",
    "* 1200, 300\n",
    "* 5040, 60"
   ]
  },
  {
   "cell_type": "code",
   "execution_count": 11,
   "metadata": {},
   "outputs": [
    {
     "data": {
      "text/plain": [
       "1"
      ]
     },
     "metadata": {},
     "output_type": "display_data"
    },
    {
     "data": {
      "text/plain": [
       "300"
      ]
     },
     "metadata": {},
     "output_type": "display_data"
    },
    {
     "data": {
      "text/plain": [
       "60"
      ]
     },
     "metadata": {},
     "output_type": "display_data"
    }
   ],
   "source": [
    "display(gcd(2018,2019), gcd(1200,300), gcd(5040,60))"
   ]
  },
  {
   "cell_type": "markdown",
   "metadata": {},
   "source": [
    "__2.3__: What does your function do if one or both of its arguments are negative? Does this behavior make sense?"
   ]
  },
  {
   "cell_type": "code",
   "execution_count": 13,
   "metadata": {},
   "outputs": [
    {
     "data": {
      "text/plain": [
       "-1"
      ]
     },
     "execution_count": 13,
     "metadata": {},
     "output_type": "execute_result"
    }
   ],
   "source": [
    "gcd(-2,-5)"
   ]
  },
  {
   "cell_type": "markdown",
   "metadata": {},
   "source": [
    "The result is simply the inverse of the GCD of absolute values of inputs, i.e., $$gcd(a, b) = - gcd(|a|, |b|),\\quad a < 0,\\ b < 0$$\n",
    "This does not make sense because the GCD should be the absolute value of the value we obtain, i.e., if we get $x$ from the algorithm by inputing number $a$ and $b$, then the GCD should be $|x|$, since $|x|$ divides both $a$ and $b$ and there is no integer bigger than $|x|$ that can divide both $a,b$."
   ]
  },
  {
   "cell_type": "markdown",
   "metadata": {},
   "source": [
    "***\n",
    "### Question 3: Approximating Euler’s number $e$ ###\n",
    "__3.1__: An early characterization of Euler’s number, due to Jacob Bernoulli, was as the limit $$\\lim_{x \\to \\infty} (1 + \\frac{1}{x})^x$$ Define a function called *euler_limit* that takes as an argument an integer **n**, and returns a float that approximates $e$ by taking $x = n$ in the above Equation. You may assume that the input to your function will be a positive integer."
   ]
  },
  {
   "cell_type": "code",
   "execution_count": 15,
   "metadata": {},
   "outputs": [
    {
     "data": {
      "text/plain": [
       "2.5937424601000023"
      ]
     },
     "execution_count": 15,
     "metadata": {},
     "output_type": "execute_result"
    }
   ],
   "source": [
    "def euler_limit(n):\n",
    "    return (1 + 1/n)**n\n",
    "euler_limit(10)"
   ]
  },
  {
   "cell_type": "markdown",
   "metadata": {},
   "source": [
    "__3.2__: Define a function called *euler_infinite_sum* that takes a single non-negative integer argument **n**, and returns an approximation to $e$ based on the first $n$ terms of the sum in the following equation:\n",
    "$$e = \\sum_{k = 0}^{\\infty}\\frac{1}{k!} = 1 + 1 + \\frac{1}{2} + \\frac{1}{6} + \\frac{1}{24} + ... $$"
   ]
  },
  {
   "cell_type": "code",
   "execution_count": 29,
   "metadata": {},
   "outputs": [
    {
     "data": {
      "text/plain": [
       "2.6666666666666665"
      ]
     },
     "execution_count": 29,
     "metadata": {},
     "output_type": "execute_result"
    }
   ],
   "source": [
    "def euler_infinite_sum(n):\n",
    "    if n == 0:\n",
    "        return 1\n",
    "    t = 1\n",
    "    s = 0\n",
    "    for i in range(n):\n",
    "        s = s + t\n",
    "        t = 1/(i + 1) * t\n",
    "    return s\n",
    "euler_infinite_sum(4)"
   ]
  },
  {
   "cell_type": "markdown",
   "metadata": {},
   "source": [
    "__3.3__: Define a function called *euler_approx* that takes a single argument, a float epsilon, and uses the sum in the above to obtain an approximation of e that is within epsilon of the true value of $e$. "
   ]
  },
  {
   "cell_type": "code",
   "execution_count": 32,
   "metadata": {},
   "outputs": [
    {
     "data": {
      "text/plain": [
       "2.7182539682539684"
      ]
     },
     "execution_count": 32,
     "metadata": {},
     "output_type": "execute_result"
    }
   ],
   "source": [
    "import math\n",
    "def euler_approx(epsilon):\n",
    "    n = 1\n",
    "    while abs(euler_infinite_sum(n) - math.exp(1)) >= epsilon:\n",
    "        n = n + 1\n",
    "    return euler_infinite_sum(n)\n",
    "euler_approx(0.0001)"
   ]
  },
  {
   "cell_type": "markdown",
   "metadata": {},
   "source": [
    "__3.4__: Define a function called *print_euler_sum_table* that takes a single positive integer\n",
    "**n** as an argument and prints the successive values obtained from *euler_infinite_sum(k)* as k ranges from $1$ to $n$, one per line."
   ]
  },
  {
   "cell_type": "code",
   "execution_count": 34,
   "metadata": {},
   "outputs": [
    {
     "name": "stdout",
     "output_type": "stream",
     "text": [
      "1\n",
      "2.0\n",
      "2.5\n",
      "2.6666666666666665\n"
     ]
    }
   ],
   "source": [
    "def print_euler_sum_table(n):\n",
    "    for i in range(n):\n",
    "        print(euler_infinite_sum(i+1))\n",
    "print_euler_sum_table(4)"
   ]
  },
  {
   "cell_type": "markdown",
   "metadata": {},
   "source": [
    "__3.5__: Which of these two approximations is better?  \n",
    "\n",
    "\n",
    "_Answer_:  I personally think the function *euler_approx* is the best because by inputing epsilon, we can have an approximation of $e$ as accuracy as possible. However, this relies on the fact that we already have the value exp(1) in the computer that is accurate enough. If we do not have this value, we may use the function *euler_infinite_sum* function with sufficiently big $n$ to have a high accuracy approximation of $e$."
   ]
  },
  {
   "cell_type": "markdown",
   "metadata": {},
   "source": [
    "***\n",
    "### Question 4: Testing Properties of an Integer ###\n",
    "__4.1__: Write a function *is_power_of_2* that takes a positive integer as its only argument and returns a Boolean indicating whether or not the input is a power of 2. You may assume that the input is a positive integer."
   ]
  },
  {
   "cell_type": "code",
   "execution_count": 1,
   "metadata": {},
   "outputs": [
    {
     "data": {
      "text/plain": [
       "True"
      ]
     },
     "execution_count": 1,
     "metadata": {},
     "output_type": "execute_result"
    }
   ],
   "source": [
    "def is_power_of_2(n):\n",
    "    while n%2 == 0 and n != 1:   #the first condition shows that the value(after rounds of dividing by 2) is still \n",
    "        n = n/2                  #a even number and we carry on the loop, the second condition tells when to end\n",
    "    if n == 1:\n",
    "        return True   \n",
    "    else:\n",
    "        return False\n",
    "is_power_of_2(8)"
   ]
  },
  {
   "cell_type": "markdown",
   "metadata": {},
   "source": [
    "__4.2__: Generalize your previous solution to a function *is_power* that takes two positive integers as its arguments, b and n, in that order, and returns a Boolean. *is_power(b,n)* should return True if n is a power of b and False otherwise."
   ]
  },
  {
   "cell_type": "code",
   "execution_count": 44,
   "metadata": {},
   "outputs": [
    {
     "data": {
      "text/plain": [
       "False"
      ]
     },
     "execution_count": 44,
     "metadata": {},
     "output_type": "execute_result"
    }
   ],
   "source": [
    "def is_power(b,n):\n",
    "    while n%b == 0 and n != 1:   #again, the first condition insures that the number can be divided by b\n",
    "        n = n/b\n",
    "    if n == 1:\n",
    "        return True\n",
    "    else:\n",
    "        return False\n",
    "is_power(2,9)"
   ]
  },
  {
   "cell_type": "code",
   "execution_count": null,
   "metadata": {},
   "outputs": [],
   "source": []
  }
 ],
 "metadata": {
  "kernelspec": {
   "display_name": "Python 3",
   "language": "python",
   "name": "python3"
  },
  "language_info": {
   "codemirror_mode": {
    "name": "ipython",
    "version": 3
   },
   "file_extension": ".py",
   "mimetype": "text/x-python",
   "name": "python",
   "nbconvert_exporter": "python",
   "pygments_lexer": "ipython3",
   "version": "3.6.5"
  }
 },
 "nbformat": 4,
 "nbformat_minor": 2
}
